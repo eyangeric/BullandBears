{
 "cells": [
  {
   "cell_type": "code",
   "execution_count": 107,
   "metadata": {},
   "outputs": [],
   "source": [
    "#dependencies\n",
    "import pandas as pd\n",
    "from bs4 import BeautifulSoup\n",
    "import requests\n",
    "import datetime"
   ]
  },
  {
   "cell_type": "code",
   "execution_count": 110,
   "metadata": {},
   "outputs": [],
   "source": [
    "#get current year\n",
    "current_date = datetime.datetime.today()\n",
    "current_year = current_date.year"
   ]
  },
  {
   "cell_type": "code",
   "execution_count": null,
   "metadata": {},
   "outputs": [],
   "source": [
    "#get header row for variable names\n",
    "url = \"https://www.treasury.gov/resource-center/data-chart-center/interest-rates/Pages/TextView.aspx?data=yieldYear&year=2007\"\n",
    "\n",
    "response = requests.get(url)\n",
    "soup = BeautifulSoup(response.text, 'html.parser')\n",
    "var_names = soup.find_all('th')"
   ]
  },
  {
   "cell_type": "code",
   "execution_count": null,
   "metadata": {},
   "outputs": [],
   "source": [
    "#create list of the variable names\n",
    "var_name_list = []\n",
    "for var in var_names:\n",
    "    var_name_list.append(var.text)"
   ]
  },
  {
   "cell_type": "code",
   "execution_count": null,
   "metadata": {},
   "outputs": [],
   "source": [
    "#create empty lists for all variables\n",
    "Date_List = []\n",
    "Month1_List = []\n",
    "Month2_List = []\n",
    "Month3_List = []\n",
    "Month6_List = []\n",
    "Year1_List = []\n",
    "Year2_List = []\n",
    "Year3_List = []\n",
    "Year5_List = []\n",
    "Year7_List = []\n",
    "Year10_List = []\n",
    "Year20_List = []\n",
    "Year30_List = []"
   ]
  },
  {
   "cell_type": "code",
   "execution_count": 115,
   "metadata": {},
   "outputs": [],
   "source": [
    "#create list of years from pre-2008 U.S. economic recession to present year\n",
    "range(2007, current_year)\n",
    "\n",
    "year_list = []\n",
    "for year in range(2007, current_year + 1):\n",
    "    year_list.append(year)"
   ]
  },
  {
   "cell_type": "code",
   "execution_count": 117,
   "metadata": {},
   "outputs": [],
   "source": [
    "#create list of urls for web scraping loop\n",
    "url_list = []\n",
    "\n",
    "for year in year_list:\n",
    "    url = f\"https://www.treasury.gov/resource-center/data-chart-center/interest-rates/Pages/TextView.aspx?data=yieldYear&year={year}\"\n",
    "    url_list.append(url)"
   ]
  },
  {
   "cell_type": "code",
   "execution_count": 147,
   "metadata": {},
   "outputs": [],
   "source": [
    "#loop through urls to scrape out data\n",
    "for url in url_list:\n",
    "    response = requests.get(url)\n",
    "    soup = BeautifulSoup(response.text, 'html.parser')\n",
    "    \n",
    "    #get all table rows\n",
    "    results = soup.find('table', class_=\"t-chart\").find_all(\"tr\")\n",
    "    \n",
    "    #first row of results is the header\n",
    "    #need to remove it to just get data rows\n",
    "    results_noHeader = results[1:]\n",
    "    \n",
    "    #put all data rows into a list of separate data chunks\n",
    "    #each chunk contains a data row of information\n",
    "    data_list = []\n",
    "    for index in range(len(results_noHeader)):\n",
    "        data_chunk = results_noHeader[index].find_all('td')\n",
    "        data_list.append(data_chunk)\n",
    "        \n",
    "    #loop through list of data to append data column values into appropriate variable list\n",
    "    for data_col in data_list:\n",
    "    \n",
    "        #assign data columns to data variable names\n",
    "        Date = data_col[0].text\n",
    "        Month1 = data_col[1].text\n",
    "        Month2 = data_col[2].text\n",
    "        Month3 = data_col[3].text\n",
    "        Month6 = data_col[4].text\n",
    "        Year1 = data_col[5].text\n",
    "        Year2 = data_col[6].text\n",
    "        Year3 = data_col[7].text\n",
    "        Year5 = data_col[8].text\n",
    "        Year7 = data_col[9].text\n",
    "        Year10 = data_col[10].text\n",
    "        Year20 = data_col[11].text\n",
    "        Year30 = data_col[12].text\n",
    "\n",
    "        #append values into appropriate list\n",
    "        Date_List.append(Date)\n",
    "        Month1_List.append(Month1)\n",
    "        Month2_List.append(Month2)\n",
    "        Month3_List.append(Month3)\n",
    "        Month6_List.append(Month6)\n",
    "        Year1_List.append(Year1)\n",
    "        Year2_List.append(Year2)\n",
    "        Year3_List.append(Year3)\n",
    "        Year5_List.append(Year5)\n",
    "        Year7_List.append(Year7)\n",
    "        Year10_List.append(Year10)\n",
    "        Year20_List.append(Year20)\n",
    "        Year30_List.append(Year30)"
   ]
  },
  {
   "cell_type": "code",
   "execution_count": 145,
   "metadata": {},
   "outputs": [],
   "source": [
    "#append data into pandas dataframe\n",
    "data_dict = {var_name_list[0] : Date_List, var_name_list[1] : Month1_List, var_name_list[2] : Month2_List,\n",
    "            var_name_list[3] : Month3_List, var_name_list[4] : Month6_List, var_name_list[5] : Year1_List,\n",
    "            var_name_list[6] : Year2_List, var_name_list[7] : Year3_List, var_name_list[8] : Year5_List,\n",
    "            var_name_list[9] : Year7_List, var_name_list[10] : Year10_List, var_name_list[11] : Year20_List,\n",
    "            var_name_list[12] : Year30_List}\n",
    "Treasury_DF = pd.DataFrame(data = data_dict)"
   ]
  },
  {
   "cell_type": "code",
   "execution_count": 146,
   "metadata": {},
   "outputs": [],
   "source": [
    "#export dataset to csv file\n",
    "Treasury_DF.to_csv(\"datasets/Treasury_Yield.csv\", index=False, header=True)"
   ]
  }
 ],
 "metadata": {
  "kernelspec": {
   "display_name": "Python 3",
   "language": "python",
   "name": "python3"
  },
  "language_info": {
   "codemirror_mode": {
    "name": "ipython",
    "version": 3
   },
   "file_extension": ".py",
   "mimetype": "text/x-python",
   "name": "python",
   "nbconvert_exporter": "python",
   "pygments_lexer": "ipython3",
   "version": "3.7.0"
  }
 },
 "nbformat": 4,
 "nbformat_minor": 2
}
